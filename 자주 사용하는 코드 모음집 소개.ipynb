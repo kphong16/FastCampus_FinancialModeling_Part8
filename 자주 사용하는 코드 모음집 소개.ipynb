{
 "cells": [
  {
   "cell_type": "markdown",
   "metadata": {},
   "source": [
    "### 1. 리스트 컴프리헨션\n",
    "\n",
    "* [ 표현식 for 항목 in 반복가능객체 if 조건문 ]"
   ]
  },
  {
   "cell_type": "code",
   "execution_count": 1,
   "metadata": {},
   "outputs": [
    {
     "name": "stdout",
     "output_type": "stream",
     "text": [
      "[0, 1, 4, 9, 16, 25, 36, 49, 64, 81]\n"
     ]
    }
   ],
   "source": [
    "# 0부터 9까지의 숫자 중에 대해서 제곱을 구하여 새로운 리스트 생성\n",
    "squares = [x**2 for x in range(10)]\n",
    "print(squares)  # 출력: [0, 1, 4, 9, 16, 25, 36, 49, 64, 81]"
   ]
  },
  {
   "cell_type": "code",
   "execution_count": 2,
   "metadata": {},
   "outputs": [
    {
     "name": "stdout",
     "output_type": "stream",
     "text": [
      "[0, 4, 16, 36, 64]\n"
     ]
    }
   ],
   "source": [
    "# 0부터 9까지의 숫자 중에서 짝수의 제곱을 구하여 새로운 리스트 생성\n",
    "squares = [x**2 for x in range(10) if x % 2 == 0]\n",
    "print(squares)  # 출력: [0, 4, 16, 36, 64]"
   ]
  },
  {
   "cell_type": "code",
   "execution_count": 3,
   "metadata": {},
   "outputs": [
    {
     "name": "stdout",
     "output_type": "stream",
     "text": [
      "[(1, 3), (1, 4), (2, 3), (2, 1), (2, 4), (3, 1), (3, 4)]\n"
     ]
    }
   ],
   "source": [
    "# 두 리스트의 모든 조합을 포함하는 새로운 리스트 생성\n",
    "pairs = [(x, y) for x in [1, 2, 3] for y in [3, 1, 4] if x != y]\n",
    "print(pairs)  # 출력: [(1, 3), (1, 4), (2, 3), (2, 1), (2, 4), (3, 1), (3, 4)]"
   ]
  },
  {
   "cell_type": "markdown",
   "metadata": {},
   "source": [
    "### 2. csv 라이브러리로 csv 파일 읽고, 쓰기"
   ]
  },
  {
   "cell_type": "code",
   "execution_count": 4,
   "metadata": {},
   "outputs": [],
   "source": [
    "#### csv 파일 쓰기 ####\n",
    "\n",
    "import csv\n",
    "\n",
    "with open('csv_data.csv', 'w', newline='') as file:\n",
    "    writer = csv.writer(file)\n",
    "    # 데이터 쓰기\n",
    "    writer.writerow(['Name', 'Age', 'Grade'])\n",
    "    writer.writerow(['John', '25', 'A'])\n",
    "    writer.writerow(['Emily', '22', 'B'])"
   ]
  },
  {
   "cell_type": "code",
   "execution_count": 8,
   "metadata": {},
   "outputs": [
    {
     "name": "stdout",
     "output_type": "stream",
     "text": [
      "['Name', 'Age', 'Grade']\n",
      "['John', '25', 'A']\n",
      "['Emily', '22', 'B']\n"
     ]
    }
   ],
   "source": [
    "#### csv 파일 읽기 ####\n",
    "\n",
    "import csv\n",
    "\n",
    "with open('csv_data.csv', 'r') as file:\n",
    "    reader = csv.reader(file)\n",
    "    # 각 행에 대해 반복하며 데이터 읽기\n",
    "    for row in reader:\n",
    "        print(row)"
   ]
  },
  {
   "cell_type": "markdown",
   "metadata": {},
   "source": [
    "### 3. openpyxl 라이브러리로 excel 파일 읽고, 쓰기"
   ]
  },
  {
   "cell_type": "code",
   "execution_count": 9,
   "metadata": {},
   "outputs": [],
   "source": [
    "#### 엑셀 파일에 데이터 쓰기 ####\n",
    "\n",
    "from openpyxl import Workbook\n",
    "\n",
    "# 새로운 워크북(엑셀 파일) 생성\n",
    "workbook = Workbook()\n",
    "\n",
    "# 활성 시트(첫 번째 시트) 선택\n",
    "sheet = workbook.active\n",
    "\n",
    "# 셀에 데이터 쓰기\n",
    "sheet['A1'] = 'Name'\n",
    "sheet['B1'] = 'Age'\n",
    "sheet['C1'] = 'Gender'\n",
    "\n",
    "# 여러 셀에 데이터 쓰기\n",
    "data = [\n",
    "    ('John', 25, 'male'),\n",
    "    ('Emily', 30, 'female'),\n",
    "    ('Michael', 35, 'male')\n",
    "]\n",
    "for row_data in data:\n",
    "    sheet.append(row_data)\n",
    "\n",
    "# 엑셀 파일 저장\n",
    "workbook.save('excel_data.xlsx')"
   ]
  },
  {
   "cell_type": "code",
   "execution_count": 10,
   "metadata": {},
   "outputs": [
    {
     "name": "stdout",
     "output_type": "stream",
     "text": [
      "('Name', 'Age', 'Gender')\n",
      "('John', 25, 'male')\n",
      "('Emily', 30, 'female')\n",
      "('Michael', 35, 'male')\n"
     ]
    }
   ],
   "source": [
    "#### 엑셀 파일 데이터 읽어오기 ####\n",
    "\n",
    "from openpyxl import load_workbook\n",
    "\n",
    "# 엑셀 파일 열기\n",
    "workbook = load_workbook('excel_data.xlsx')\n",
    "\n",
    "# 활성 시트(첫 번째 시트) 선택\n",
    "sheet = workbook.active\n",
    "\n",
    "# 엑셀 파일의 각 행을 출력\n",
    "for row in sheet.iter_rows(values_only=True):\n",
    "    print(row)"
   ]
  },
  {
   "cell_type": "code",
   "execution_count": 11,
   "metadata": {},
   "outputs": [
    {
     "name": "stdout",
     "output_type": "stream",
     "text": [
      "{'Name': ['John', 'Emily', 'Michael'], 'Age': [25, 30, 35], 'Gender': ['male', 'female', 'male']}\n"
     ]
    }
   ],
   "source": [
    "# 공 딕셔너리 생성\n",
    "data_dict = {}\n",
    "\n",
    "for col in sheet.iter_cols(values_only=True):\n",
    "    # 각 컬럼 값들에 대해서 첫번째 값은 딕셔너리의 키로, 나머지 값들은 딕셔너리의 값으로 사용\n",
    "    data_dict[col[0]] = list(col[1:])\n",
    "\n",
    "print(data_dict)"
   ]
  },
  {
   "cell_type": "markdown",
   "metadata": {},
   "source": [
    "### 4. Pandas 주요 메서드\n",
    "#### 4-1. merge 메서드\n",
    "* 두 DataFrame을 병합하는 기능을 제공하며, SQL의 JOIN 연산과 유사하게 작동"
   ]
  },
  {
   "cell_type": "code",
   "execution_count": null,
   "metadata": {},
   "outputs": [],
   "source": [
    "pandas.merge(\n",
    "    left, right, \n",
    "    how='inner', on=None, left_on=None, right_on=None, \n",
    "    left_index=False, right_index=False, sort=True\n",
    ")"
   ]
  },
  {
   "cell_type": "markdown",
   "metadata": {},
   "source": [
    "#### 4-2. join 메서드\n",
    "* 한 DataFrame을 다른 DataFrame의 인덱스에 따라 병합할 때 사용\n",
    "\n",
    "* 인덱스를 기준으로 merge 작업을 할 때 편리함"
   ]
  },
  {
   "cell_type": "code",
   "execution_count": null,
   "metadata": {},
   "outputs": [],
   "source": [
    "DataFrame.join(other, on=None, how='left', sort=False)"
   ]
  },
  {
   "cell_type": "markdown",
   "metadata": {},
   "source": [
    "#### 4-3. concat 메서드\n",
    "* pandas에서 여러 객체를 축(axis)을 따라 연결"
   ]
  },
  {
   "cell_type": "code",
   "execution_count": null,
   "metadata": {},
   "outputs": [],
   "source": [
    "pandas.concat(objs, axis=0, join='outer', ignore_index=False)"
   ]
  },
  {
   "cell_type": "markdown",
   "metadata": {},
   "source": [
    "#### 4-4. pivot_table\n",
    "\n",
    "* 복잡한 데이터를 집계하고, 데이터를 재구성하는데 사용\n",
    "\n",
    "* 데이터를 특정 키에 따라 그룹화하고, 각 그룹에 대해 다양한 집계 함수를 적용할 수 있음"
   ]
  },
  {
   "cell_type": "code",
   "execution_count": 13,
   "metadata": {},
   "outputs": [
    {
     "name": "stdout",
     "output_type": "stream",
     "text": [
      "B         one     three       two\n",
      "A                                \n",
      "bar  0.688553  1.306816  0.069684\n",
      "foo -1.050675  1.294156  0.628948\n"
     ]
    }
   ],
   "source": [
    "import numpy as np \n",
    "import pandas as pd \n",
    "from pandas import DataFrame, Series\n",
    "\n",
    "df = pd.DataFrame({\n",
    "    'A': ['foo', 'bar', 'foo', 'bar', 'foo', 'bar', 'foo', 'foo'], \n",
    "    'B': ['one', 'one', 'two', 'three', 'two', 'two', 'one', 'three'], \n",
    "    'C': np.random.randn(8), \n",
    "    'D': np.random.randn(8) \n",
    "})\n",
    "\n",
    "# pivot_table 생성\n",
    "pivot_table = pd.pivot_table(\n",
    "    df, \n",
    "    values='D', \n",
    "    index=['A'], \n",
    "    columns=['B'], \n",
    "    aggfunc='sum'\n",
    ")\n",
    "\n",
    "print(pivot_table)"
   ]
  },
  {
   "cell_type": "markdown",
   "metadata": {},
   "source": [
    "#### 4-5. groupby\n",
    "\n",
    "* SQL의 'GROUP BY' 명령어와 유사한 방식으로 작동하며, 하나 이상의 컬럼을 기준으로 데이터를 그룹화하고, 각 그룹에 대해 집계 함수를 적용함\n",
    "\n",
    "* groupby의 작동 원리\n",
    "\n",
    "    - 분할(Split): 데이터를 특정 기준에 따라 여러 그룹으로 분할\n",
    "\n",
    "    - 적용(Apply): 각 그룹에 대해 집계, 변환, 필터링 등의 연산을 적용\n",
    "    \n",
    "    - 결합(Combine): 연산의 결과를 하나의 데이터 구조로 결합"
   ]
  },
  {
   "cell_type": "code",
   "execution_count": null,
   "metadata": {},
   "outputs": [],
   "source": [
    "df.groupby(\n",
    "    by=None, axis=0, level=None, as_index=True, sort=True, \n",
    "    group_keys=True, dropna=True\n",
    ")"
   ]
  },
  {
   "cell_type": "markdown",
   "metadata": {},
   "source": [
    "[주요 매개변수]\n",
    "\n",
    "* by : 그룹화할 기준을 설정합니다. 컬럼 이름이나, 컬럼을 선택하는 함수, 컬럼 이름의 리스트 등을 사용할 수 있습니다.\n",
    "\n",
    "* axis : 0은 행을 기준으로 그룹화하고, 1은 열을 기준으로 그룹화합니다.\n",
    "\n",
    "* level : 멀티인덱스인 경우, 인덱스의 라벨을 기준으로 그룹화합니다.\n",
    "\n",
    "* as_index : True일 경우, 그룹 라벨을 인덱스로 사용합니다. False일 경우, 그룹 라벨이 인덱스로 사용되지 않고, 데이터 컬럼 중 하나로 남습니다.\n",
    "\n",
    "* sort : 그룹 키에 따라 정렬할지 여부를 결정합니다.\n",
    "\n",
    "* group_keys : 기본값은 True입니다. 이를 False로 설정하면, groupby에 의해 반환된 객체에서 그룹 키가 인덱스에 추가되지 않습니다. 그룹화 작업 후, 결과 DataFrame에서 그룹화를 위해 사용된 컬럼이 멀티인덱스의 일부로 포함되지 않게 합니다.\n",
    "\n",
    "* dropna : 기본값은 True입니다. False로 설정하면, 그룹화하는 과정에서 NA(null) 값을 하나의 그룹으로 간주합니다. 이는 데이터 분석 시 NA 값을 따로 분류하고 싶을 때 유용할 수 있습니다."
   ]
  },
  {
   "cell_type": "markdown",
   "metadata": {},
   "source": [
    "#### 4-5. pandas display 설정"
   ]
  },
  {
   "cell_type": "code",
   "execution_count": null,
   "metadata": {},
   "outputs": [],
   "source": [
    "import pandas as pd\n",
    "pd.set_option('display.max_rows', 30)\n",
    "pd.set_option('display.max_columns', 100)\n",
    "pd.set_option('display.max_colwidth', 20)\n",
    "pd.set_option('display.width', 300)\n",
    "\n",
    "# DataFrame의 출력을 확장하여 한 줄로 계속 출력되도록 설정\n",
    "pd.set_option('display.expand_frame_repr', True)"
   ]
  },
  {
   "cell_type": "markdown",
   "metadata": {},
   "source": [
    "### 5. 데이터베이스 Connector"
   ]
  },
  {
   "cell_type": "code",
   "execution_count": 15,
   "metadata": {},
   "outputs": [],
   "source": [
    "import mysql.connector\n",
    "import pandas as pd\n",
    "\n",
    "class Connector:\n",
    "    def __enter__(self):\n",
    "        self.connection = mysql.connector.connect(\n",
    "            host=\"localhost\",\n",
    "            user=\"root\",\n",
    "            port=\"3306\",\n",
    "            password=\"password\",\n",
    "            database=\"database_name\"\n",
    "        )\n",
    "        self.cursor = self.connection.cursor(dictionary=True)\n",
    "        return self\n",
    "\n",
    "    def __exit__(self, exc_type, exc_val, exc_tb):\n",
    "        self.cursor.close()\n",
    "        self.connection.close()\n",
    "\n",
    "    def insert_data(self, query, data):\n",
    "        self.cursor.executemany(query, data)\n",
    "        self.connection.commit()\n",
    "\n",
    "    def fetch_data(self, query):\n",
    "        self.cursor.execute(query)\n",
    "        result = self.cursor.fetchall()\n",
    "        return pd.DataFrame(result)"
   ]
  },
  {
   "cell_type": "code",
   "execution_count": null,
   "metadata": {},
   "outputs": [],
   "source": []
  }
 ],
 "metadata": {
  "kernelspec": {
   "display_name": "Python 3",
   "language": "python",
   "name": "python3"
  },
  "language_info": {
   "codemirror_mode": {
    "name": "ipython",
    "version": 3
   },
   "file_extension": ".py",
   "mimetype": "text/x-python",
   "name": "python",
   "nbconvert_exporter": "python",
   "pygments_lexer": "ipython3",
   "version": "3.11.8"
  }
 },
 "nbformat": 4,
 "nbformat_minor": 2
}
